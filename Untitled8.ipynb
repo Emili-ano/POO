{
  "nbformat": 4,
  "nbformat_minor": 0,
  "metadata": {
    "colab": {
      "provenance": []
    },
    "kernelspec": {
      "name": "python3",
      "display_name": "Python 3"
    },
    "language_info": {
      "name": "python"
    }
  },
  "cells": [
    {
      "cell_type": "code",
      "execution_count": 1,
      "metadata": {
        "id": "YcI1J05PnYOB"
      },
      "outputs": [],
      "source": [
        "def area(b,l):\n",
        "  a= ((b*l)/2)\n",
        "  return a\n",
        "def perimetro(b,l):\n",
        "  p=(2*l+b)\n",
        "  return p"
      ]
    },
    {
      "cell_type": "code",
      "source": [
        "area(6,9)"
      ],
      "metadata": {
        "colab": {
          "base_uri": "https://localhost:8080/"
        },
        "id": "KbdJD_oAndib",
        "outputId": "f542b34c-d5d6-4149-b900-0825ddf16a66"
      },
      "execution_count": 2,
      "outputs": [
        {
          "output_type": "execute_result",
          "data": {
            "text/plain": [
              "27.0"
            ]
          },
          "metadata": {},
          "execution_count": 2
        }
      ]
    },
    {
      "cell_type": "code",
      "source": [
        "perimetro(6,9)"
      ],
      "metadata": {
        "colab": {
          "base_uri": "https://localhost:8080/"
        },
        "id": "5suNr46UnfIX",
        "outputId": "1870d5db-053c-4658-f61d-1b83f9e52a92"
      },
      "execution_count": 3,
      "outputs": [
        {
          "output_type": "execute_result",
          "data": {
            "text/plain": [
              "24"
            ]
          },
          "metadata": {},
          "execution_count": 3
        }
      ]
    },
    {
      "cell_type": "code",
      "source": [
        "def num(x):\n",
        "  numpar=x%2\n",
        "  return numpar"
      ],
      "metadata": {
        "id": "j_JtJio3nkIp"
      },
      "execution_count": 4,
      "outputs": []
    },
    {
      "cell_type": "code",
      "source": [
        "num(3)"
      ],
      "metadata": {
        "colab": {
          "base_uri": "https://localhost:8080/"
        },
        "id": "nPgjEbv1nm_N",
        "outputId": "74fc3e4b-f565-42dd-d8c2-87f84eacd1d9"
      },
      "execution_count": 6,
      "outputs": [
        {
          "output_type": "execute_result",
          "data": {
            "text/plain": [
              "1"
            ]
          },
          "metadata": {},
          "execution_count": 6
        }
      ]
    },
    {
      "cell_type": "code",
      "source": [
        "x=4\n",
        "\n",
        "if num(x)==0:\n",
        "  print(\"es par\")\n",
        "else:\n",
        "    print(\"es impar\")"
      ],
      "metadata": {
        "colab": {
          "base_uri": "https://localhost:8080/"
        },
        "id": "Wm1XgqD3nxMp",
        "outputId": "b918e78b-deb7-427f-dbcb-a1a1488ad06a"
      },
      "execution_count": 7,
      "outputs": [
        {
          "output_type": "stream",
          "name": "stdout",
          "text": [
            "es par\n"
          ]
        }
      ]
    },
    {
      "cell_type": "code",
      "source": [
        "def perfecto(n):\n",
        "  sumadiv = 1\n",
        "  for i in range(2, int(n**0.5) + 1):\n",
        "    if n % i == 0:\n",
        "      sumadiv += i + n // i\n",
        "  return sumadiv == n\n",
        "x=6\n",
        "if perfecto(x):\n",
        "  print(\"es perfecto\")\n",
        "else:\n",
        "  print(\"no es perfecto\")"
      ],
      "metadata": {
        "colab": {
          "base_uri": "https://localhost:8080/"
        },
        "id": "AUj5dEAen0wS",
        "outputId": "8cf0747a-bb07-4943-f003-8d2ea7dab3c5"
      },
      "execution_count": 8,
      "outputs": [
        {
          "output_type": "stream",
          "name": "stdout",
          "text": [
            "es perfecto\n"
          ]
        }
      ]
    }
  ]
}