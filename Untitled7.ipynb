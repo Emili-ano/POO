{
  "nbformat": 4,
  "nbformat_minor": 0,
  "metadata": {
    "colab": {
      "provenance": []
    },
    "kernelspec": {
      "name": "python3",
      "display_name": "Python 3"
    },
    "language_info": {
      "name": "python"
    }
  },
  "cells": [
    {
      "cell_type": "code",
      "execution_count": 4,
      "metadata": {
        "id": "QWDyN_kUmLZb"
      },
      "outputs": [],
      "source": [
        "class Hobbies():\n",
        "  def __init__ (self):\n",
        "    print(\"definiremos cuales son mis hobbies\")\n",
        "  def fin(self):\n",
        "    print(\"los fines de semana\")\n",
        "  def entre (self):\n",
        "    print(\"entre semana\")"
      ]
    },
    {
      "cell_type": "code",
      "source": [
        "hobbies=Hobbies()"
      ],
      "metadata": {
        "colab": {
          "base_uri": "https://localhost:8080/"
        },
        "id": "m_gkb6hlmVX3",
        "outputId": "7485c980-3c83-4247-efef-bbe30f644189"
      },
      "execution_count": 5,
      "outputs": [
        {
          "output_type": "stream",
          "name": "stdout",
          "text": [
            "definiremos cuales son mis hobbies\n"
          ]
        }
      ]
    },
    {
      "cell_type": "code",
      "source": [
        "hobbies.fin()"
      ],
      "metadata": {
        "colab": {
          "base_uri": "https://localhost:8080/"
        },
        "id": "1CGn4LAimg-7",
        "outputId": "45eb4744-f6a3-4862-b801-5f66e8ba95d7"
      },
      "execution_count": 6,
      "outputs": [
        {
          "output_type": "stream",
          "name": "stdout",
          "text": [
            "los fines de semana\n"
          ]
        }
      ]
    },
    {
      "cell_type": "code",
      "source": [
        "hobbies.entre()"
      ],
      "metadata": {
        "colab": {
          "base_uri": "https://localhost:8080/"
        },
        "id": "g7x71KLumoLg",
        "outputId": "f7f47022-0d0f-4f4d-a5a0-55e65e451d01"
      },
      "execution_count": 7,
      "outputs": [
        {
          "output_type": "stream",
          "name": "stdout",
          "text": [
            "entre semana\n"
          ]
        }
      ]
    },
    {
      "cell_type": "code",
      "source": [
        "class gustos(Hobbies):\n",
        "  def __init__(self):\n",
        "    Hobbies.__init__(self)\n",
        "    print(\"contesta\")\n",
        "  def nombre(self):\n",
        "    print(\"leer\")\n",
        "  def colores(self):\n",
        "      print(\"dibujar\")"
      ],
      "metadata": {
        "id": "GBOOMQDjmsh-"
      },
      "execution_count": 8,
      "outputs": []
    },
    {
      "cell_type": "code",
      "source": [
        "contesta = gustos()"
      ],
      "metadata": {
        "colab": {
          "base_uri": "https://localhost:8080/"
        },
        "id": "wWIZLz8_mw_Y",
        "outputId": "f9c0ac1d-b481-4dca-8c4f-96ee57abde4c"
      },
      "execution_count": 9,
      "outputs": [
        {
          "output_type": "stream",
          "name": "stdout",
          "text": [
            "definiremos cuales son mis hobbies\n",
            "contesta\n"
          ]
        }
      ]
    },
    {
      "cell_type": "code",
      "source": [
        "contesta.nombre()"
      ],
      "metadata": {
        "colab": {
          "base_uri": "https://localhost:8080/"
        },
        "id": "PauypEcGm2Oz",
        "outputId": "ca9cd9fc-d615-437a-a433-ea864b78b418"
      },
      "execution_count": 10,
      "outputs": [
        {
          "output_type": "stream",
          "name": "stdout",
          "text": [
            "leer\n"
          ]
        }
      ]
    },
    {
      "cell_type": "code",
      "source": [
        "contesta.colores()"
      ],
      "metadata": {
        "id": "Sah44_72m6cI",
        "outputId": "18c2f7e9-b4f8-4fd0-e96d-0005bc95395a",
        "colab": {
          "base_uri": "https://localhost:8080/"
        }
      },
      "execution_count": 11,
      "outputs": [
        {
          "output_type": "stream",
          "name": "stdout",
          "text": [
            "dibujar\n"
          ]
        }
      ]
    }
  ]
}